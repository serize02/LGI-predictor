{
 "cells": [
  {
   "cell_type": "code",
   "execution_count": 1,
   "metadata": {},
   "outputs": [],
   "source": [
    "import os\n",
    "import pandas as pd\n",
    "import numpy as np\n",
    "import mlflow\n",
    "import mlflow.sklearn\n",
    "from sklearn.pipeline import Pipeline\n",
    "from sklearn.preprocessing import StandardScaler, MinMaxScaler\n",
    "from sklearn.svm import SVR\n",
    "from sklearn.model_selection import GridSearchCV, KFold\n",
    "import matplotlib.pyplot as plt\n",
    "import seaborn as sns"
   ]
  },
  {
   "cell_type": "code",
   "execution_count": 2,
   "metadata": {},
   "outputs": [],
   "source": [
    "os.chdir('../')"
   ]
  },
  {
   "cell_type": "code",
   "execution_count": 3,
   "metadata": {},
   "outputs": [],
   "source": [
    "selected_data = pd.read_csv('data/processed/data.csv')"
   ]
  },
  {
   "cell_type": "code",
   "execution_count": 4,
   "metadata": {},
   "outputs": [],
   "source": [
    "X, y = selected_data.drop('Ilg', axis=1), selected_data['Ilg']"
   ]
  },
  {
   "cell_type": "code",
   "execution_count": 5,
   "metadata": {},
   "outputs": [],
   "source": [
    "reg = Pipeline(steps=[\n",
    "    ('scaler', StandardScaler()),\n",
    "    ('estimator', SVR())\n",
    "])"
   ]
  },
  {
   "cell_type": "code",
   "execution_count": 6,
   "metadata": {},
   "outputs": [],
   "source": [
    "params = {\n",
    "    'scaler': [StandardScaler(), MinMaxScaler()],\n",
    "    'estimator__C': [0.1, 1.0, 10.0, 100.0],\n",
    "    'estimator__epsilon': [0.1, 0.2, 0.5],\n",
    "    'estimator__kernel': ['linear', 'poly', 'rbf', 'sigmoid'],\n",
    "    'estimator__degree': [2, 3, 4],\n",
    "    'estimator__gamma': ['scale', 'auto'],\n",
    "    'estimator__shrinking': [True, False],\n",
    "    'estimator__tol': [1e-4, 1e-3, 1e-2]\n",
    "}"
   ]
  },
  {
   "cell_type": "code",
   "execution_count": 7,
   "metadata": {},
   "outputs": [
    {
     "name": "stderr",
     "output_type": "stream",
     "text": [
      "\u001b[31m2025/03/26 14:06:32 WARNING mlflow.models.model: Model logged without a signature and input example. Please set `input_example` parameter when logging the model to auto infer the model signature.\u001b[0m\n"
     ]
    },
    {
     "name": "stdout",
     "output_type": "stream",
     "text": [
      "Best score:  938.1976115464191\n",
      "Best params:  {'estimator__C': 100.0, 'estimator__degree': 2, 'estimator__epsilon': 0.1, 'estimator__gamma': 'scale', 'estimator__kernel': 'rbf', 'estimator__shrinking': True, 'estimator__tol': 0.0001, 'scaler': StandardScaler()}\n"
     ]
    }
   ],
   "source": [
    "with mlflow.start_run():\n",
    "    \n",
    "    kf = KFold(n_splits=5, shuffle=True, random_state=42)\n",
    "    grid = GridSearchCV(estimator=reg, param_grid=params, scoring='neg_mean_squared_error', cv=kf)\n",
    "    grid.fit(X, y)\n",
    "\n",
    "    mlflow.log_param('model_type', 'SVR')\n",
    "    for param, value in grid.best_params_.items():\n",
    "        mlflow.log_param(param, value)\n",
    "    \n",
    "    mlflow.log_metric(\"best_score\", np.sqrt(-grid.best_score_))\n",
    "    mlflow.sklearn.log_model(grid.best_estimator_, 'SVR')\n",
    "\n",
    "    print('Best score: ', np.sqrt(-grid.best_score_))\n",
    "    print('Best params: ', grid.best_params_)"
   ]
  }
 ],
 "metadata": {
  "kernelspec": {
   "display_name": "base",
   "language": "python",
   "name": "python3"
  },
  "language_info": {
   "codemirror_mode": {
    "name": "ipython",
    "version": 3
   },
   "file_extension": ".py",
   "mimetype": "text/x-python",
   "name": "python",
   "nbconvert_exporter": "python",
   "pygments_lexer": "ipython3",
   "version": "3.12.7"
  }
 },
 "nbformat": 4,
 "nbformat_minor": 2
}
