{
 "cells": [
  {
   "cell_type": "code",
   "execution_count": 8,
   "metadata": {},
   "outputs": [],
   "source": [
    "import pandas as pd\n",
    "import numpy as np\n",
    "from sklearn.preprocessing import StandardScaler\n",
    "from sklearn.ensemble import GradientBoostingClassifier, RandomForestClassifier\n",
    "from sklearn.linear_model import LogisticRegression, SGDClassifier\n",
    "from sklearn.neighbors import KNeighborsClassifier\n",
    "from sklearn.svm import SVC\n",
    "from sklearn.naive_bayes import GaussianNB\n",
    "from sklearn.neural_network import MLPClassifier\n",
    "from sklearn.tree import DecisionTreeClassifier\n",
    "import matplotlib.pyplot as plt\n",
    "import seaborn as sns"
   ]
  },
  {
   "cell_type": "code",
   "execution_count": 9,
   "metadata": {},
   "outputs": [],
   "source": [
    "data = pd.read_csv('../data/processed/clf/data.csv')"
   ]
  },
  {
   "cell_type": "code",
   "execution_count": 10,
   "metadata": {},
   "outputs": [],
   "source": [
    "X, y = data.drop('Estado al egreso', axis=1), data['Estado al egreso']"
   ]
  },
  {
   "cell_type": "code",
   "execution_count": 11,
   "metadata": {},
   "outputs": [],
   "source": [
    "scaler = StandardScaler()\n",
    "X_scaled = scaler.fit_transform(X)"
   ]
  },
  {
   "cell_type": "markdown",
   "metadata": {},
   "source": [
    "### Model Selection"
   ]
  },
  {
   "cell_type": "code",
   "execution_count": 12,
   "metadata": {},
   "outputs": [],
   "source": [
    "models = [\n",
    "    KNeighborsClassifier(),\n",
    "    GradientBoostingClassifier(),\n",
    "    RandomForestClassifier(random_state=1),\n",
    "    LogisticRegression(),\n",
    "    SGDClassifier(),\n",
    "    SVC(),\n",
    "    GaussianNB(),\n",
    "    MLPClassifier(max_iter=1000),\n",
    "    DecisionTreeClassifier()\n",
    "]"
   ]
  },
  {
   "cell_type": "code",
   "execution_count": 13,
   "metadata": {},
   "outputs": [
    {
     "name": "stdout",
     "output_type": "stream",
     "text": [
      "KNeighborsClassifier - f1_score: 0.85 ± 0.08, roc_auc: 0.92 ± 0.05, recall: 0.95 +- 0.08, precision: 0.79 +- 0.11, \n",
      "GradientBoostingClassifier - f1_score: 0.91 ± 0.04, roc_auc: 0.95 ± 0.04, recall: 0.94 +- 0.06, precision: 0.90 +- 0.10, \n",
      "RandomForestClassifier - f1_score: 0.93 ± 0.04, roc_auc: 0.97 ± 0.03, recall: 0.94 +- 0.04, precision: 0.92 +- 0.08, \n",
      "LogisticRegression - f1_score: 0.85 ± 0.08, roc_auc: 0.92 ± 0.06, recall: 0.87 +- 0.01, precision: 0.84 +- 0.14, \n",
      "SGDClassifier - f1_score: 0.78 ± 0.12, roc_auc: 0.88 ± 0.05, recall: 0.75 +- 0.20, precision: 0.79 +- 0.10, \n",
      "SVC - f1_score: 0.86 ± 0.08, roc_auc: 0.94 ± 0.03, recall: 0.90 +- 0.06, precision: 0.84 +- 0.12, \n",
      "GaussianNB - f1_score: 0.75 ± 0.05, roc_auc: 0.94 ± 0.02, recall: 1.00 +- 0.00, precision: 0.60 +- 0.07, \n",
      "MLPClassifier - f1_score: 0.92 ± 0.06, roc_auc: 0.96 ± 0.05, recall: 0.95 +- 0.05, precision: 0.88 +- 0.12, \n",
      "DecisionTreeClassifier - f1_score: 0.87 ± 0.01, roc_auc: 0.87 ± 0.04, recall: 0.87 +- 0.10, precision: 0.87 +- 0.09, \n"
     ]
    }
   ],
   "source": [
    "from sklearn.model_selection import cross_val_score, KFold\n",
    "import numpy as np\n",
    "\n",
    "kf = KFold(n_splits=5, shuffle=True, random_state=42)\n",
    "\n",
    "for model in models:\n",
    "    \n",
    "    recall_scores = cross_val_score(model, X_scaled, y, scoring='recall', cv=kf)\n",
    "    precision_scores = cross_val_score(model, X_scaled, y, scoring='precision', cv=kf)\n",
    "    f1_scores = cross_val_score(model, X_scaled, y, scoring='f1', cv=kf)\n",
    "    roc_auc_scores = cross_val_score(model, X_scaled, y, scoring='roc_auc', cv=kf)\n",
    "    \n",
    "    print(f\"{model.__class__.__name__} - f1_score: {f1_scores.mean():.2f} ± {f1_scores.std():.2f}, \"\n",
    "          f\"roc_auc: {roc_auc_scores.mean():.2f} ± {roc_auc_scores.std():.2f}, \"\n",
    "          f\"recall: {recall_scores.mean():.2f} +- {recall_scores.std():.2f}, \"\n",
    "          f\"precision: {precision_scores.mean():.2f} +- {precision_scores.std():.2f}, \"\n",
    "        )"
   ]
  }
 ],
 "metadata": {
  "kernelspec": {
   "display_name": "base",
   "language": "python",
   "name": "python3"
  },
  "language_info": {
   "codemirror_mode": {
    "name": "ipython",
    "version": 3
   },
   "file_extension": ".py",
   "mimetype": "text/x-python",
   "name": "python",
   "nbconvert_exporter": "python",
   "pygments_lexer": "ipython3",
   "version": "3.12.7"
  }
 },
 "nbformat": 4,
 "nbformat_minor": 2
}
